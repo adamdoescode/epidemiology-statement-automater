{
 "cells": [
  {
   "cell_type": "markdown",
   "metadata": {},
   "source": [
    "# Automated epidemiology statements for relative risk\n",
    "A short script as an exercise in writing about programming.  \n",
    "Insert text for `exposed`, `risk`, `outcome`, and `comparison` to produce a statement.   \n",
    "This should be used for demonstration purposes *only* and is *not* to be used in the wild."
   ]
  },
  {
   "cell_type": "code",
   "execution_count": 1,
   "metadata": {},
   "outputs": [],
   "source": [
    "#import interact function from ipywidgets library\n",
    "from ipywidgets import interact"
   ]
  },
  {
   "cell_type": "code",
   "execution_count": 2,
   "metadata": {},
   "outputs": [
    {
     "data": {
      "application/vnd.jupyter.widget-view+json": {
       "model_id": "4e04dada98d2447db2c3b3f642651d90",
       "version_major": 2,
       "version_minor": 0
      },
      "text/plain": [
       "interactive(children=(Text(value='', description='exposed'), Text(value='', description='risk'), Text(value=''…"
      ]
     },
     "metadata": {},
     "output_type": "display_data"
    }
   ],
   "source": [
    "def output_statement(exposed = '', risk = '', outcome = '', comparison = ''):\n",
    "    '''\n",
    "    This outputs the final statement with elements added in by the user via an interact widget in the notebook.\n",
    "    '''\n",
    "    print(\"%s have %s times the risk of %s compared to %s\"%(exposed, risk, outcome, comparison))\n",
    "#creates the interact widget for output_statement\n",
    "interact(output_statement);"
   ]
  }
 ],
 "metadata": {
  "kernelspec": {
   "display_name": "Python 3",
   "language": "python",
   "name": "python3"
  },
  "language_info": {
   "codemirror_mode": {
    "name": "ipython",
    "version": 3
   },
   "file_extension": ".py",
   "mimetype": "text/x-python",
   "name": "python",
   "nbconvert_exporter": "python",
   "pygments_lexer": "ipython3",
   "version": "3.6.10"
  }
 },
 "nbformat": 4,
 "nbformat_minor": 4
}
