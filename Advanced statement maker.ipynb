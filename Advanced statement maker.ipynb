{
 "cells": [
  {
   "cell_type": "markdown",
   "metadata": {},
   "source": [
    "# Automated epidemiology statements for relative risk (with option for controlling variable)\n",
    "This is the same script in \"Automated epidemiology statements for relative risk\" except updated to have an option for controlling variable."
   ]
  },
  {
   "cell_type": "code",
   "execution_count": 1,
   "metadata": {},
   "outputs": [],
   "source": [
    "#import interact function from ipywidgets library\n",
    "from ipywidgets import interact"
   ]
  },
  {
   "cell_type": "code",
   "execution_count": 8,
   "metadata": {},
   "outputs": [
    {
     "data": {
      "application/vnd.jupyter.widget-view+json": {
       "model_id": "feeb627853524c25b0b5c49ac614f4fb",
       "version_major": 2,
       "version_minor": 0
      },
      "text/plain": [
       "interactive(children=(Checkbox(value=False, description='include_controlling'), Output()), _dom_classes=('widg…"
      ]
     },
     "metadata": {},
     "output_type": "display_data"
    }
   ],
   "source": [
    "def output_statement(exposed = '', risk = '', outcome = '', comparison = ''):\n",
    "    '''\n",
    "    This outputs the final statement with elements added in by the user via an interact widget in the notebook.\n",
    "    '''\n",
    "    print(\"%s have %s times the risk of %s compared to %s\"%(exposed, risk, outcome, comparison))\n",
    "\n",
    "def statement_with_controlling(exposed = '', risk = '', outcome = '', comparison = '', controlling = ''):\n",
    "    '''\n",
    "    This is the same as the output_statement function, but it included an extra option for controlling a confounding variable\n",
    "    '''\n",
    "    print(\"%s have %s times the risk of %s compared to %s, controlling for %s\"%(exposed, risk, outcome, comparison, controlling))\n",
    "\n",
    "def widget_decider(include_controlling = False):\n",
    "    if include_controlling == False:\n",
    "        interact(output_statement);\n",
    "    elif include_controlling == True:\n",
    "        interact(statement_with_controlling);\n",
    "\n",
    "    \n",
    "#creates the interact widget for output_statement\n",
    "interact(widget_decider);"
   ]
  },
  {
   "cell_type": "code",
   "execution_count": null,
   "metadata": {},
   "outputs": [],
   "source": []
  }
 ],
 "metadata": {
  "kernelspec": {
   "display_name": "Python 3",
   "language": "python",
   "name": "python3"
  },
  "language_info": {
   "codemirror_mode": {
    "name": "ipython",
    "version": 3
   },
   "file_extension": ".py",
   "mimetype": "text/x-python",
   "name": "python",
   "nbconvert_exporter": "python",
   "pygments_lexer": "ipython3",
   "version": "3.6.10"
  }
 },
 "nbformat": 4,
 "nbformat_minor": 4
}
